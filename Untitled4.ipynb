{
  "cells": [
    {
      "cell_type": "markdown",
      "metadata": {
        "colab_type": "text",
        "id": "view-in-github"
      },
      "source": [
        "<a href=\"https://colab.research.google.com/github/mayomayo1737/render_fastapi/blob/main/Untitled4.ipynb\" target=\"_parent\"><img src=\"https://colab.research.google.com/assets/colab-badge.svg\" alt=\"Open In Colab\"/></a>"
      ]
    },
    {
      "cell_type": "code",
      "execution_count": null,
      "metadata": {},
      "outputs": [],
      "source": [
        "from typing import Optional\n",
        "\n",
        "from fastapi import FastAPI\n",
        "\n",
        "import random  # randomライブラリを追加\n",
        "\n",
        "app = FastAPI()\n",
        "\n",
        "\n",
        "@app.get(\"/\")\n",
        "async def root():\n",
        "    return {\"message\": \"Hello World\"}\n",
        "\n",
        "@app.get(\"/items/{item_id}\")\n",
        "def read_item(item_id: int, q: Optional[str] = None):\n",
        "    return {\"item_id\": item_id, \"q\": q}\n",
        "\n",
        "@app.get(\"/omikuji\")\n",
        "def omikuji():\n",
        "    omikuji_list = [\n",
        "        \"大吉\",\n",
        "        \"中吉\",\n",
        "        \"小吉\",\n",
        "        \"吉\",\n",
        "        \"半吉\",\n",
        "        \"末吉\",\n",
        "        \"末小吉\",\n",
        "        \"凶\",\n",
        "        \"小凶\",\n",
        "        \"大凶\"\n",
        "    ]\n",
        "\n",
        "    return omikuji_list[random.randrange(10)]"
      ]
    },
    {
      "cell_type": "code",
      "execution_count": 6,
      "metadata": {
        "id": "pSwNufMd5Q6C"
      },
      "outputs": [],
      "source": [
        "from typing import Optional\n",
        "\n",
        "from fastapi import FastAPI\n",
        "\n",
        "import random  # randomライブラリを追加\n",
        "\n",
        "app = FastAPI()\n",
        "\n",
        "\n",
        "@app.get(\"/\")\n",
        "async def root():\n",
        "    return {\"message\": \"Hello World\"}\n",
        "\n",
        "@app.get(\"/items/{item_id}\")\n",
        "def read_item(item_id: int, q: Optional[str] = None):\n",
        "    return {\"item_id\": item_id, \"q\": q}\n",
        "\n",
        "@app.get(\"/omikuji\")\n",
        "def omikuji():\n",
        "    omikuji_list = [\n",
        "        \"大吉\",\n",
        "        \"中吉\",\n",
        "        \"小吉\",\n",
        "        \"吉\",\n",
        "        \"半吉\",\n",
        "        \"末吉\",\n",
        "        \"末小吉\",\n",
        "        \"凶\",\n",
        "        \"小凶\",\n",
        "        \"大凶\"\n",
        "    ]\n",
        "\n",
        "    return omikuji_list[random.randrange(10)]"
      ]
    },
    {
      "cell_type": "code",
      "execution_count": 7,
      "metadata": {
        "colab": {
          "base_uri": "https://localhost:8080/"
        },
        "id": "4iKpXVH77QtM",
        "outputId": "e5db02b8-0966-4c35-d70e-4dd5e0684e2f"
      },
      "outputs": [
        {
          "name": "stdout",
          "output_type": "stream",
          "text": [
            "3\n",
            "4\n",
            "2\n",
            "6\n",
            "9\n",
            "7.5\n"
          ]
        }
      ],
      "source": [
        "x = 3\n",
        "y = 4.5\n",
        "print(x)\n",
        "\n",
        "print(x + 1)  # 加算\n",
        "print(x - 1)  # 減算\n",
        "print(x * 2)  # 乗算\n",
        "print(x ** 2)  # べき乗 x^2\n",
        "print(x + y)"
      ]
    },
    {
      "cell_type": "code",
      "execution_count": 8,
      "metadata": {
        "colab": {
          "base_uri": "https://localhost:8080/"
        },
        "id": "iI50gI6-7UTB",
        "outputId": "f9d39ce6-55ca-4a2f-d0fc-36cffaaf8bed"
      },
      "outputs": [
        {
          "name": "stdout",
          "output_type": "stream",
          "text": [
            "<class 'int'>\n",
            "<class 'float'>\n",
            "<class 'bool'>\n",
            "<class 'bool'>\n",
            "False\n",
            "True\n",
            "False\n",
            "True\n"
          ]
        }
      ],
      "source": [
        "print(type(x))\n",
        "print(type(y))\n",
        "t = True\n",
        "f = False\n",
        "x=t\n",
        "print(type(x))\n",
        "print(type(t))  # => \"<type 'bool'>\"\n",
        "print(t and f)  # 論理積; \"False\"\n",
        "print(t or f)  # 論理和; \"True\"\n",
        "print(not t)  # 否定; \"False\"\n",
        "print(t ^ f)  # 排他的論理和; \"True\""
      ]
    },
    {
      "cell_type": "code",
      "execution_count": 9,
      "metadata": {
        "colab": {
          "base_uri": "https://localhost:8080/",
          "height": 280
        },
        "id": "tmcXxBkY7xBA",
        "outputId": "71c04ea1-4aec-46a5-9cb0-735553814009"
      },
      "outputs": [
        {
          "name": "stdout",
          "output_type": "stream",
          "text": [
            "hello\n",
            "world\n",
            "5\n",
            "hello world\n"
          ]
        },
        {
          "ename": "NameError",
          "evalue": "name 'hel' is not defined",
          "output_type": "error",
          "traceback": [
            "\u001b[0;31m---------------------------------------------------------------------------\u001b[0m",
            "\u001b[0;31mNameError\u001b[0m                                 Traceback (most recent call last)",
            "\u001b[0;32m<ipython-input-9-2283728143>\u001b[0m in \u001b[0;36m<cell line: 0>\u001b[0;34m()\u001b[0m\n\u001b[1;32m      9\u001b[0m \u001b[0;34m\u001b[0m\u001b[0m\n\u001b[1;32m     10\u001b[0m \u001b[0;31m# 文字列の埋め込み\u001b[0m\u001b[0;34m\u001b[0m\u001b[0;34m\u001b[0m\u001b[0m\n\u001b[0;32m---> 11\u001b[0;31m \u001b[0mhw12\u001b[0m \u001b[0;34m=\u001b[0m \u001b[0;34m'%s %s %d'\u001b[0m \u001b[0;34m%\u001b[0m \u001b[0;34m(\u001b[0m\u001b[0mhel\u001b[0m\u001b[0;34m,\u001b[0m \u001b[0mwor\u001b[0m\u001b[0;34m,\u001b[0m \u001b[0;36m12\u001b[0m\u001b[0;34m)\u001b[0m\u001b[0;34m\u001b[0m\u001b[0;34m\u001b[0m\u001b[0m\n\u001b[0m\u001b[1;32m     12\u001b[0m \u001b[0mprint\u001b[0m\u001b[0;34m(\u001b[0m\u001b[0mhw12\u001b[0m\u001b[0;34m)\u001b[0m  \u001b[0;31m# => \"hello world 12\"\u001b[0m\u001b[0;34m\u001b[0m\u001b[0;34m\u001b[0m\u001b[0m\n\u001b[1;32m     13\u001b[0m \u001b[0mhwl3\u001b[0m \u001b[0;34m=\u001b[0m \u001b[0;34mf'{hel}, {wor} {2 + 3}'\u001b[0m\u001b[0;34m\u001b[0m\u001b[0;34m\u001b[0m\u001b[0m\n",
            "\u001b[0;31mNameError\u001b[0m: name 'hel' is not defined"
          ]
        }
      ],
      "source": [
        "hello = 'hello'  # シングルクォートか、\n",
        "world = \"world\"  # ダブルクォートで文字列を表す\n",
        "print(hello)  # => \"hello\"\n",
        "print(world)\n",
        "\n",
        "print(len(hello))  # 文字列の長さ;=> \"5\"\n",
        "hw = hello + ' ' + world  # 文字列の結合\n",
        "print(hw)  # => \"hello world\"\n",
        "\n",
        "# 文字列の埋め込み\n",
        "hw12 = '%s %s %d' % (hel, wor, 12)\n",
        "print(hw12)  # => \"hello world 12\"\n",
        "hwl3 = f'{hel}, {wor} {2 + 3}'\n",
        "print(hwl3)\n",
        "print(f'The {wor}!')\n",
        "\n",
        "nihongo = u'日本語'  # 明示的にUnicode型を作るにはuをつける\n",
        "print(nihongo)  # => '日本語'"
      ]
    },
    {
      "cell_type": "code",
      "execution_count": 10,
      "metadata": {
        "colab": {
          "base_uri": "https://localhost:8080/"
        },
        "id": "tK9ruV938UBl",
        "outputId": "3bb3f999-dc40-405a-c5e3-a0276020f306"
      },
      "outputs": [
        {
          "name": "stdout",
          "output_type": "stream",
          "text": [
            "Hello\n",
            "HELLO\n",
            "hello\n",
            "  hello\n",
            " hello \n",
            "he(ell)(ell)o\n",
            "loveloveloveaaaaaaaaaaaaa\n",
            "world\n",
            "10\n"
          ]
        }
      ],
      "source": [
        "s = \"hello\"\n",
        "print(s.capitalize())  #=> \"Hello\"\n",
        "print(s.upper())       #=> \"HELLO\"\n",
        "print(s.upper().lower())       #=> \"HELLO\"->\"hello\"\n",
        "\n",
        "print(s.rjust(7))      # 右寄せ;=> \"  hello\"\n",
        "print(s.center(7))     # 中央寄せ;=> \" hello \"\n",
        "\n",
        "print(s.replace('l', '(ell)'))  # 部分文字列の置換;=> \"he(ell)(ell)o\"\n",
        "# ３つだけ文字列を入れ替える\n",
        "b = \"aaaaaaaaaaaaaaaa\"\n",
        "c = b.replace(\"a\", \"love\", 3)\n",
        "print(c)\n",
        "\n",
        "print('  world '.strip())  # 空白の削除;=> \"world\"\n",
        "\n",
        "# 文字列の長さを取得\n",
        "moji = \"python面白いね\"\n",
        "print(len(moji))"
      ]
    },
    {
      "cell_type": "code",
      "execution_count": 11,
      "metadata": {
        "colab": {
          "base_uri": "https://localhost:8080/"
        },
        "id": "vxPPaYDt9AQt",
        "outputId": "e19c0d8b-1962-42c2-a726-c92ccc3b65e6"
      },
      "outputs": [
        {
          "name": "stdout",
          "output_type": "stream",
          "text": [
            "\n",
            "明日は何しようか。\n",
            "pythonの勉強をしよう\n",
            "30[km/h]で、120[km]を走るとすると、4.0[h]かかります。\n",
            "縦の長さは何[cm]?1\n",
            "横の長さは何[cm]?3\n",
            "面積 s =3.0[cm^2]です\n"
          ]
        }
      ],
      "source": [
        "moji = \"\"\"\n",
        "明日は何しようか。\n",
        "pythonの勉強をしよう\"\"\"\n",
        "print(moji)\n",
        "\n",
        "\n",
        "# .formatの便利な使い方{0} に 変数1の値 、{1} に変数２の値 が割り当てられます。\n",
        "sokudo = 30  # [km/h]\n",
        "kyori = 120  # [km]\n",
        "zikan = kyori / sokudo\n",
        "ans = \"{0}[km/h]で、{1}[km]を走るとすると、{2}[h]かかります。\".format(sokudo, kyori, zikan)\n",
        "print(ans)\n",
        "\n",
        "# 入力させる\n",
        "tate = float(input(\"縦の長さは何[cm]?\"))\n",
        "\n",
        "yoko = float(input(\"横の長さは何[cm]?\"))\n",
        "s = tate * yoko\n",
        "print(\"面積 s =\" + str(s) + \"[cm^2]です\")\n",
        "\n",
        "# 上記プログラムをmenseki.pyと保存してpythn3 mesenki.pyの実行できます。"
      ]
    },
    {
      "cell_type": "code",
      "execution_count": 12,
      "metadata": {
        "colab": {
          "base_uri": "https://localhost:8080/"
        },
        "id": "p5zp4ItL-MBM",
        "outputId": "772b9bba-6213-445b-accb-d0bb73d442d3"
      },
      "outputs": [
        {
          "name": "stdout",
          "output_type": "stream",
          "text": [
            "[3, 1, 2] 2\n",
            "2\n",
            "[3, 1, 'foo']\n",
            "[3, 1, 'foo', 'bar']\n",
            "bar [3, 1, 'foo']\n"
          ]
        }
      ],
      "source": [
        "xs = [3, 1, 2]   # リスト作成\n",
        "print(xs, xs[2])  #=> \"[3, 1, 2] 2\"\n",
        "print(xs[-1])     # 負のインデックス値は後ろから数えます;=> \"2\"\n",
        "\n",
        "xs[2] = 'foo'    # リストには複数のデータ型を混ぜられます\n",
        "print(xs)         #=> \"[3, 1, 'foo']\"\n",
        "xs.append('bar') # データを後ろに追加します\n",
        "print(xs)         #=> \"[3, 1, 'foo', 'bar']\"\n",
        "\n",
        "x = xs.pop()     # データを後ろから取り除きます\n",
        "print(x, xs)      #=> \"bar [3, 1, 'foo']\""
      ]
    }
  ],
  "metadata": {
    "colab": {
      "authorship_tag": "ABX9TyOOSKjqOecz85GvqI6VHRKZ",
      "include_colab_link": true,
      "provenance": []
    },
    "kernelspec": {
      "display_name": "Python 3",
      "name": "python3"
    },
    "language_info": {
      "name": "python"
    }
  },
  "nbformat": 4,
  "nbformat_minor": 0
}
